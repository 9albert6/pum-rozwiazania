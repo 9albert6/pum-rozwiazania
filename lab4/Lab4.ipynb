{
 "cells": [
  {
   "cell_type": "markdown",
   "metadata": {},
   "source": [
    "Ćwiczenie:\n",
    "\n",
    "- pobierz zbiór danych Rain in Australia (załączony do tej instrukcji)\n",
    "\n",
    "- usuń kolumny mające więcej niż 30% brakujących wartości oraz kolumnę 'Risk-MM'\n",
    "\n",
    "- dokonaj imputacji brakujących wartości zakładając że są one MCAR (Missing Completely At Random), tzn. zmienne kategoryczne należy zastąpić dominantą (najczęściej występującą w kolumnie wartością) a numeryczne medianą (wartością środkową w rosnąco posortowanej kolumnie)\n",
    "\n",
    "- obetnij obserwacje odstające więcej niż 1.5 rozstępu ćwiartkowego\n",
    "\n",
    "- znormalizuj (numeryczne) i zakoduj (kategoryczne) dane\n",
    "\n",
    "- wykorzystując sklearn.linear_model.LogisticRegression, dla każdego z regionów naucz model przewidujący jutrzejsza pogodę 'RainTomorrow'\n",
    "\n",
    "- sprawdź który z modeli najskuteczniej przewiduje pogodę w skali całego kraju (dla każdego klasyfikatora zbiór testowy powinien być próbkowany z podzbiorów testowych dla wszystkich regionów)\n",
    "\n",
    "- sprawdź czy wybrany model miał najwyższe accuracy na własnym zbiorze testowym spośród wszystkich klasyfikatorów\n",
    "\n",
    "- porównaj najlepszy klasyfikator z \"klasyfikatorem\" zawsze wybierającym dominującą wartość w zbiorze\n",
    "\n",
    "- dla najlepszego klasyfikatora wyświetl confusion matrix\n",
    "\n",
    "Przy wykonywaniu zadania należy pamiętać o stratyfikacji."
   ]
  },
  {
   "cell_type": "code",
   "execution_count": 2,
   "metadata": {},
   "outputs": [],
   "source": [
    "import pandas as pd\n",
    "import numpy as np\n",
    "from pandas.api.types import is_numeric_dtype"
   ]
  },
  {
   "cell_type": "markdown",
   "metadata": {},
   "source": [
    "Wczytuję zbiór danych"
   ]
  },
  {
   "cell_type": "code",
   "execution_count": 3,
   "metadata": {},
   "outputs": [
    {
     "output_type": "execute_result",
     "data": {
      "text/plain": "(142193, 24)"
     },
     "metadata": {},
     "execution_count": 3
    }
   ],
   "source": [
    "df = pd.read_csv(\"weatherAUS.csv\")\n",
    "df.shape"
   ]
  },
  {
   "cell_type": "markdown",
   "metadata": {},
   "source": [
    "Usuwam kolumny z brakującymi danymi oraz kolumne RISK_MM"
   ]
  },
  {
   "cell_type": "code",
   "execution_count": 4,
   "metadata": {},
   "outputs": [
    {
     "output_type": "stream",
     "name": "stdout",
     "text": "Deleted columns: ['RISK_MM', 'Evaporation', 'Sunshine', 'Cloud9am', 'Cloud3pm']\n"
    }
   ],
   "source": [
    "column_names = ['RISK_MM']\n",
    "all_entries = len(df.index)\n",
    "nan_values = df.isnull().sum().as_matrix()\n",
    "\n",
    "for i in range(len(nan_values)):\n",
    "    if (nan_values[i]/all_entries)>=0.3:\n",
    "        column_names.append(df.columns[i])\n",
    "\n",
    "for name in column_names:\n",
    "    if name in df.columns:\n",
    "        del df[name]\n",
    "\n",
    "print(\"Deleted columns:\", column_names)"
   ]
  },
  {
   "cell_type": "code",
   "execution_count": 5,
   "metadata": {},
   "outputs": [
    {
     "output_type": "execute_result",
     "data": {
      "text/plain": "         Date Location  MinTemp  MaxTemp  Rainfall WindGustDir  WindGustSpeed  \\\n0  2008-12-01   Albury     13.4     22.9       0.6           W           44.0   \n1  2008-12-02   Albury      7.4     25.1       0.0         WNW           44.0   \n2  2008-12-03   Albury     12.9     25.7       0.0         WSW           46.0   \n3  2008-12-04   Albury      9.2     28.0       0.0          NE           24.0   \n4  2008-12-05   Albury     17.5     32.3       1.0           W           41.0   \n\n  WindDir9am WindDir3pm  WindSpeed9am  WindSpeed3pm  Humidity9am  Humidity3pm  \\\n0          W        WNW          20.0          24.0         71.0         22.0   \n1        NNW        WSW           4.0          22.0         44.0         25.0   \n2          W        WSW          19.0          26.0         38.0         30.0   \n3         SE          E          11.0           9.0         45.0         16.0   \n4        ENE         NW           7.0          20.0         82.0         33.0   \n\n   Pressure9am  Pressure3pm  Temp9am  Temp3pm RainToday RainTomorrow  \n0       1007.7       1007.1     16.9     21.8        No           No  \n1       1010.6       1007.8     17.2     24.3        No           No  \n2       1007.6       1008.7     21.0     23.2        No           No  \n3       1017.6       1012.8     18.1     26.5        No           No  \n4       1010.8       1006.0     17.8     29.7        No           No  ",
      "text/html": "<div>\n<style scoped>\n    .dataframe tbody tr th:only-of-type {\n        vertical-align: middle;\n    }\n\n    .dataframe tbody tr th {\n        vertical-align: top;\n    }\n\n    .dataframe thead th {\n        text-align: right;\n    }\n</style>\n<table border=\"1\" class=\"dataframe\">\n  <thead>\n    <tr style=\"text-align: right;\">\n      <th></th>\n      <th>Date</th>\n      <th>Location</th>\n      <th>MinTemp</th>\n      <th>MaxTemp</th>\n      <th>Rainfall</th>\n      <th>WindGustDir</th>\n      <th>WindGustSpeed</th>\n      <th>WindDir9am</th>\n      <th>WindDir3pm</th>\n      <th>WindSpeed9am</th>\n      <th>WindSpeed3pm</th>\n      <th>Humidity9am</th>\n      <th>Humidity3pm</th>\n      <th>Pressure9am</th>\n      <th>Pressure3pm</th>\n      <th>Temp9am</th>\n      <th>Temp3pm</th>\n      <th>RainToday</th>\n      <th>RainTomorrow</th>\n    </tr>\n  </thead>\n  <tbody>\n    <tr>\n      <th>0</th>\n      <td>2008-12-01</td>\n      <td>Albury</td>\n      <td>13.4</td>\n      <td>22.9</td>\n      <td>0.6</td>\n      <td>W</td>\n      <td>44.0</td>\n      <td>W</td>\n      <td>WNW</td>\n      <td>20.0</td>\n      <td>24.0</td>\n      <td>71.0</td>\n      <td>22.0</td>\n      <td>1007.7</td>\n      <td>1007.1</td>\n      <td>16.9</td>\n      <td>21.8</td>\n      <td>No</td>\n      <td>No</td>\n    </tr>\n    <tr>\n      <th>1</th>\n      <td>2008-12-02</td>\n      <td>Albury</td>\n      <td>7.4</td>\n      <td>25.1</td>\n      <td>0.0</td>\n      <td>WNW</td>\n      <td>44.0</td>\n      <td>NNW</td>\n      <td>WSW</td>\n      <td>4.0</td>\n      <td>22.0</td>\n      <td>44.0</td>\n      <td>25.0</td>\n      <td>1010.6</td>\n      <td>1007.8</td>\n      <td>17.2</td>\n      <td>24.3</td>\n      <td>No</td>\n      <td>No</td>\n    </tr>\n    <tr>\n      <th>2</th>\n      <td>2008-12-03</td>\n      <td>Albury</td>\n      <td>12.9</td>\n      <td>25.7</td>\n      <td>0.0</td>\n      <td>WSW</td>\n      <td>46.0</td>\n      <td>W</td>\n      <td>WSW</td>\n      <td>19.0</td>\n      <td>26.0</td>\n      <td>38.0</td>\n      <td>30.0</td>\n      <td>1007.6</td>\n      <td>1008.7</td>\n      <td>21.0</td>\n      <td>23.2</td>\n      <td>No</td>\n      <td>No</td>\n    </tr>\n    <tr>\n      <th>3</th>\n      <td>2008-12-04</td>\n      <td>Albury</td>\n      <td>9.2</td>\n      <td>28.0</td>\n      <td>0.0</td>\n      <td>NE</td>\n      <td>24.0</td>\n      <td>SE</td>\n      <td>E</td>\n      <td>11.0</td>\n      <td>9.0</td>\n      <td>45.0</td>\n      <td>16.0</td>\n      <td>1017.6</td>\n      <td>1012.8</td>\n      <td>18.1</td>\n      <td>26.5</td>\n      <td>No</td>\n      <td>No</td>\n    </tr>\n    <tr>\n      <th>4</th>\n      <td>2008-12-05</td>\n      <td>Albury</td>\n      <td>17.5</td>\n      <td>32.3</td>\n      <td>1.0</td>\n      <td>W</td>\n      <td>41.0</td>\n      <td>ENE</td>\n      <td>NW</td>\n      <td>7.0</td>\n      <td>20.0</td>\n      <td>82.0</td>\n      <td>33.0</td>\n      <td>1010.8</td>\n      <td>1006.0</td>\n      <td>17.8</td>\n      <td>29.7</td>\n      <td>No</td>\n      <td>No</td>\n    </tr>\n  </tbody>\n</table>\n</div>"
     },
     "metadata": {},
     "execution_count": 5
    }
   ],
   "source": [
    "df.head()"
   ]
  },
  {
   "cell_type": "markdown",
   "metadata": {},
   "source": [
    "Implikuję brakujące wartości"
   ]
  },
  {
   "cell_type": "code",
   "execution_count": 6,
   "metadata": {},
   "outputs": [],
   "source": [
    "nan_values = df.isnull().sum().as_matrix()\n",
    "for i in range(len(nan_values)):\n",
    "    if nan_values[i] != 0:\n",
    "        if is_numeric_dtype(df[df.columns[i]].dtype):\n",
    "            median = df[df.columns[i]].median()\n",
    "            df[df.columns[i]].fillna(median, inplace=True)\n",
    "        else:\n",
    "            dominant = df.Location.mode().as_matrix()\n",
    "            df[df.columns[i]].fillna(dominant[0], inplace=True)"
   ]
  },
  {
   "cell_type": "markdown",
   "metadata": {},
   "source": [
    "Usuwam wartosci, ktore odstają więcej niż 1.5 rozstępu ćwiartkowego"
   ]
  },
  {
   "cell_type": "code",
   "execution_count": 8,
   "metadata": {},
   "outputs": [
    {
     "output_type": "stream",
     "name": "stdout",
     "text": "Usunięto 198555 linii.\n"
    }
   ],
   "source": [
    "Q1 = df.quantile(0.25)\n",
    "Q3 = df.quantile(0.75)\n",
    "IQR = Q3 - Q1\n",
    "lines_to_delete = []\n",
    "for column in IQR.index:\n",
    "    min_val = Q1[column] - 1.5 * IQR[column]\n",
    "    max_val = Q1[column] + 1.5 * IQR[column]\n",
    "    for i in range(len(df[column].values)):\n",
    "        if min_val > df[column][i] or df[column][i] > max_val:\n",
    "            lines_to_delete.append(i)\n",
    "df.drop(lines_to_delete, inplace=True)\n",
    "print(\"Usunięto\", len(lines_to_delete), \"linii.\")"
   ]
  },
  {
   "cell_type": "markdown",
   "metadata": {},
   "source": [
    "Normalizuje dane numeryczne i koduje dane kategoryczne"
   ]
  },
  {
   "cell_type": "code",
   "execution_count": 9,
   "metadata": {},
   "outputs": [
    {
     "output_type": "execute_result",
     "data": {
      "text/plain": "         Date Location   MinTemp   MaxTemp  Rainfall  WindGustDir  \\\n0  2008-12-01   Albury  0.709091  0.657895      0.75           14   \n1  2008-12-02   Albury  0.490909  0.730263      0.00           15   \n2  2008-12-03   Albury  0.690909  0.750000      0.00           16   \n3  2008-12-04   Albury  0.556364  0.825658      0.00            5   \n6  2008-12-07   Albury  0.741818  0.726974      0.00           14   \n7  2008-12-08   Albury  0.501818  0.782895      0.00           14   \n10 2008-12-11   Albury  0.709091  0.904605      0.00            4   \n14 2008-12-16   Albury  0.578182  0.815789      0.00           15   \n18 2008-12-20   Albury  0.578182  0.746711      0.00           11   \n19 2008-12-21   Albury  0.640000  0.868421      0.00            9   \n\n    WindGustSpeed  WindDir9am  WindDir3pm  WindSpeed9am  WindSpeed3pm  \\\n0        0.813953          14          15      0.833333      0.857143   \n1        0.813953           7          16      0.166667      0.785714   \n2        0.860465          14          16      0.791667      0.928571   \n3        0.348837          10           1      0.458333      0.321429   \n6        0.953488          13          14      0.833333      0.857143   \n7        0.604651          11          14      0.250000      0.607143   \n10       0.488372          11           3      0.708333      0.214286   \n14       0.953488           0          15      0.541667      0.785714   \n18       0.395349          10           7      0.708333      0.214286   \n19       0.348837          10          10      0.375000      0.321429   \n\n    Humidity9am  Humidity3pm  Pressure9am  Pressure3pm   Temp9am   Temp3pm  \\\n0      0.679487     0.269231     0.266129     0.341365  0.665455  0.677083   \n1      0.333333     0.307692     0.383065     0.369478  0.676364  0.763889   \n2      0.256410     0.371795     0.262097     0.405622  0.814545  0.725694   \n3      0.346154     0.192308     0.665323     0.570281  0.709091  0.840278   \n6      0.397436     0.230769     0.342742     0.385542  0.709091  0.774306   \n7      0.384615     0.230769     0.495968     0.461847  0.643636  0.805556   \n10     0.384615     0.269231     0.431452     0.405622  0.792727  0.920139   \n14     0.410256     0.346154     0.495968     0.469880  0.680000  0.829861   \n18     0.346154     0.320513     0.729839     0.742972  0.625455  0.725694   \n19     0.487179     0.346154     0.733871     0.650602  0.745455  0.868056   \n\n    RainToday  RainTomorrow  \n0           1             0  \n1           1             0  \n2           1             0  \n3           1             0  \n6           1             0  \n7           1             0  \n10          1             1  \n14          0             0  \n18          1             0  \n19          1             0  ",
      "text/html": "<div>\n<style scoped>\n    .dataframe tbody tr th:only-of-type {\n        vertical-align: middle;\n    }\n\n    .dataframe tbody tr th {\n        vertical-align: top;\n    }\n\n    .dataframe thead th {\n        text-align: right;\n    }\n</style>\n<table border=\"1\" class=\"dataframe\">\n  <thead>\n    <tr style=\"text-align: right;\">\n      <th></th>\n      <th>Date</th>\n      <th>Location</th>\n      <th>MinTemp</th>\n      <th>MaxTemp</th>\n      <th>Rainfall</th>\n      <th>WindGustDir</th>\n      <th>WindGustSpeed</th>\n      <th>WindDir9am</th>\n      <th>WindDir3pm</th>\n      <th>WindSpeed9am</th>\n      <th>WindSpeed3pm</th>\n      <th>Humidity9am</th>\n      <th>Humidity3pm</th>\n      <th>Pressure9am</th>\n      <th>Pressure3pm</th>\n      <th>Temp9am</th>\n      <th>Temp3pm</th>\n      <th>RainToday</th>\n      <th>RainTomorrow</th>\n    </tr>\n  </thead>\n  <tbody>\n    <tr>\n      <th>0</th>\n      <td>2008-12-01</td>\n      <td>Albury</td>\n      <td>0.709091</td>\n      <td>0.657895</td>\n      <td>0.75</td>\n      <td>14</td>\n      <td>0.813953</td>\n      <td>14</td>\n      <td>15</td>\n      <td>0.833333</td>\n      <td>0.857143</td>\n      <td>0.679487</td>\n      <td>0.269231</td>\n      <td>0.266129</td>\n      <td>0.341365</td>\n      <td>0.665455</td>\n      <td>0.677083</td>\n      <td>1</td>\n      <td>0</td>\n    </tr>\n    <tr>\n      <th>1</th>\n      <td>2008-12-02</td>\n      <td>Albury</td>\n      <td>0.490909</td>\n      <td>0.730263</td>\n      <td>0.00</td>\n      <td>15</td>\n      <td>0.813953</td>\n      <td>7</td>\n      <td>16</td>\n      <td>0.166667</td>\n      <td>0.785714</td>\n      <td>0.333333</td>\n      <td>0.307692</td>\n      <td>0.383065</td>\n      <td>0.369478</td>\n      <td>0.676364</td>\n      <td>0.763889</td>\n      <td>1</td>\n      <td>0</td>\n    </tr>\n    <tr>\n      <th>2</th>\n      <td>2008-12-03</td>\n      <td>Albury</td>\n      <td>0.690909</td>\n      <td>0.750000</td>\n      <td>0.00</td>\n      <td>16</td>\n      <td>0.860465</td>\n      <td>14</td>\n      <td>16</td>\n      <td>0.791667</td>\n      <td>0.928571</td>\n      <td>0.256410</td>\n      <td>0.371795</td>\n      <td>0.262097</td>\n      <td>0.405622</td>\n      <td>0.814545</td>\n      <td>0.725694</td>\n      <td>1</td>\n      <td>0</td>\n    </tr>\n    <tr>\n      <th>3</th>\n      <td>2008-12-04</td>\n      <td>Albury</td>\n      <td>0.556364</td>\n      <td>0.825658</td>\n      <td>0.00</td>\n      <td>5</td>\n      <td>0.348837</td>\n      <td>10</td>\n      <td>1</td>\n      <td>0.458333</td>\n      <td>0.321429</td>\n      <td>0.346154</td>\n      <td>0.192308</td>\n      <td>0.665323</td>\n      <td>0.570281</td>\n      <td>0.709091</td>\n      <td>0.840278</td>\n      <td>1</td>\n      <td>0</td>\n    </tr>\n    <tr>\n      <th>6</th>\n      <td>2008-12-07</td>\n      <td>Albury</td>\n      <td>0.741818</td>\n      <td>0.726974</td>\n      <td>0.00</td>\n      <td>14</td>\n      <td>0.953488</td>\n      <td>13</td>\n      <td>14</td>\n      <td>0.833333</td>\n      <td>0.857143</td>\n      <td>0.397436</td>\n      <td>0.230769</td>\n      <td>0.342742</td>\n      <td>0.385542</td>\n      <td>0.709091</td>\n      <td>0.774306</td>\n      <td>1</td>\n      <td>0</td>\n    </tr>\n    <tr>\n      <th>7</th>\n      <td>2008-12-08</td>\n      <td>Albury</td>\n      <td>0.501818</td>\n      <td>0.782895</td>\n      <td>0.00</td>\n      <td>14</td>\n      <td>0.604651</td>\n      <td>11</td>\n      <td>14</td>\n      <td>0.250000</td>\n      <td>0.607143</td>\n      <td>0.384615</td>\n      <td>0.230769</td>\n      <td>0.495968</td>\n      <td>0.461847</td>\n      <td>0.643636</td>\n      <td>0.805556</td>\n      <td>1</td>\n      <td>0</td>\n    </tr>\n    <tr>\n      <th>10</th>\n      <td>2008-12-11</td>\n      <td>Albury</td>\n      <td>0.709091</td>\n      <td>0.904605</td>\n      <td>0.00</td>\n      <td>4</td>\n      <td>0.488372</td>\n      <td>11</td>\n      <td>3</td>\n      <td>0.708333</td>\n      <td>0.214286</td>\n      <td>0.384615</td>\n      <td>0.269231</td>\n      <td>0.431452</td>\n      <td>0.405622</td>\n      <td>0.792727</td>\n      <td>0.920139</td>\n      <td>1</td>\n      <td>1</td>\n    </tr>\n    <tr>\n      <th>14</th>\n      <td>2008-12-16</td>\n      <td>Albury</td>\n      <td>0.578182</td>\n      <td>0.815789</td>\n      <td>0.00</td>\n      <td>15</td>\n      <td>0.953488</td>\n      <td>0</td>\n      <td>15</td>\n      <td>0.541667</td>\n      <td>0.785714</td>\n      <td>0.410256</td>\n      <td>0.346154</td>\n      <td>0.495968</td>\n      <td>0.469880</td>\n      <td>0.680000</td>\n      <td>0.829861</td>\n      <td>0</td>\n      <td>0</td>\n    </tr>\n    <tr>\n      <th>18</th>\n      <td>2008-12-20</td>\n      <td>Albury</td>\n      <td>0.578182</td>\n      <td>0.746711</td>\n      <td>0.00</td>\n      <td>11</td>\n      <td>0.395349</td>\n      <td>10</td>\n      <td>7</td>\n      <td>0.708333</td>\n      <td>0.214286</td>\n      <td>0.346154</td>\n      <td>0.320513</td>\n      <td>0.729839</td>\n      <td>0.742972</td>\n      <td>0.625455</td>\n      <td>0.725694</td>\n      <td>1</td>\n      <td>0</td>\n    </tr>\n    <tr>\n      <th>19</th>\n      <td>2008-12-21</td>\n      <td>Albury</td>\n      <td>0.640000</td>\n      <td>0.868421</td>\n      <td>0.00</td>\n      <td>9</td>\n      <td>0.348837</td>\n      <td>10</td>\n      <td>10</td>\n      <td>0.375000</td>\n      <td>0.321429</td>\n      <td>0.487179</td>\n      <td>0.346154</td>\n      <td>0.733871</td>\n      <td>0.650602</td>\n      <td>0.745455</td>\n      <td>0.868056</td>\n      <td>1</td>\n      <td>0</td>\n    </tr>\n  </tbody>\n</table>\n</div>"
     },
     "metadata": {},
     "execution_count": 9
    }
   ],
   "source": [
    "column_list = []\n",
    "for column in df.columns[1:]:\n",
    "    if is_numeric_dtype(df[column].dtype):\n",
    "        column_list.append(column)\n",
    "\n",
    "df[column_list] = (df[column_list]-df[column_list].min())/(df[column_list].max()-df[column_list].min())\n",
    "\n",
    "df['Date'] = df['Date'].astype('datetime64')\n",
    "from sklearn.preprocessing import LabelEncoder\n",
    "\n",
    "le = LabelEncoder()\n",
    "categorical_feature_mask = df.dtypes==object\n",
    "categorical_cols = df.columns[categorical_feature_mask].tolist()\n",
    "categorical_cols.remove('Location')\n",
    "df[categorical_cols] = df[categorical_cols].apply(lambda col: le.fit_transform(col))\n",
    "\n",
    "df.head(10)"
   ]
  },
  {
   "cell_type": "markdown",
   "metadata": {},
   "source": [
    "Tworze zbiory treningowe i testowe w zależności od regionu"
   ]
  },
  {
   "cell_type": "code",
   "execution_count": 44,
   "metadata": {
    "tags": [
     "outputPrepend",
     "outputPrepend",
     "outputPrepend",
     "outputPrepend",
     "outputPrepend",
     "outputPrepend",
     "outputPrepend",
     "outputPrepend",
     "outputPrepend",
     "outputPrepend",
     "outputPrepend",
     "outputPrepend",
     "outputPrepend",
     "outputPrepend",
     "outputPrepend",
     "outputPrepend",
     "outputPrepend",
     "outputPrepend",
     "outputPrepend",
     "outputPrepend",
     "outputPrepend",
     "outputPrepend",
     "outputPrepend",
     "outputPrepend",
     "outputPrepend",
     "outputPrepend",
     "outputPrepend",
     "outputPrepend",
     "outputPrepend",
     "outputPrepend",
     "outputPrepend",
     "outputPrepend"
    ]
   },
   "outputs": [
    {
     "output_type": "stream",
     "name": "stdout",
     "text": "Dla regionu Katherine bez stratyfikacji - za małe zrozniocowanie danych\n"
    }
   ],
   "source": [
    "from sklearn.model_selection import train_test_split\n",
    "y = 'RainTomorrow'\n",
    "X = df.columns.tolist()\n",
    "for i in ['Date', 'Location', 'RainTomorrow']:\n",
    "    X.remove(i)\n",
    "\n",
    "training_set_per_location = {}\n",
    "for location in set(df.Location):\n",
    "    temp_df = df[df.Location == location]\n",
    "    try:\n",
    "        x_train, x_test, y_train, y_test = train_test_split(temp_df[X], temp_df[y],\n",
    "                                                        test_size=0.2,\n",
    "                                                        random_state=42, stratify=temp_df[y])\n",
    "    except:\n",
    "        print(\"Dla regionu\", location, \"bez stratyfikacji - za małe zrozniocowanie danych\")\n",
    "        x_train, x_test, y_train, y_test = train_test_split(temp_df[X], temp_df[y],\n",
    "                                                        test_size=0.2,\n",
    "                                                        random_state=42)\n",
    "    training_set_per_location[location] = [x_train, x_test, y_train, y_test]\n"
   ]
  },
  {
   "cell_type": "markdown",
   "metadata": {},
   "source": [
    "Uczę modele dla każdego regionu odpowiednio"
   ]
  },
  {
   "cell_type": "code",
   "execution_count": 11,
   "metadata": {},
   "outputs": [
    {
     "output_type": "stream",
     "name": "stdout",
     "text": "Dla regionu: Cairns model przewidujący pogodę ma skutecznosc 0.9347826086956522\nDla regionu: CoffsHarbour model przewidujący pogodę ma skutecznosc 0.8483606557377049\nDla regionu: SalmonGums model przewidujący pogodę ma skutecznosc 0.9140401146131805\nDla regionu: Walpole model przewidujący pogodę ma skutecznosc 0.8260869565217391\nDla regionu: Wollongong model przewidujący pogodę ma skutecznosc 0.9\nDla regionu: Dartmoor model przewidujący pogodę ma skutecznosc 0.8571428571428571\nDla regionu: Townsville model przewidujący pogodę ma skutecznosc 0.96875\nDla regionu: Witchcliffe model przewidujący pogodę ma skutecznosc 0.8765957446808511\nDla regionu: BadgerysCreek model przewidujący pogodę ma skutecznosc 0.888\nDla regionu: Darwin nie można uzyc regresji - brak danych dla ktorejs z klas\nDla regionu: Albany model przewidujący pogodę ma skutecznosc 0.8232758620689655\nDla regionu: MountGinini model przewidujący pogodę ma skutecznosc 0.9054726368159204\nDla regionu: Brisbane model przewidujący pogodę ma skutecznosc 0.8977635782747604\nDla regionu: Williamtown model przewidujący pogodę ma skutecznosc 0.8735632183908046\nDla regionu: Adelaide model przewidujący pogodę ma skutecznosc 0.8592592592592593\nDla regionu: Sydney model przewidujący pogodę ma skutecznosc 0.867595818815331\nDla regionu: Richmond model przewidujący pogodę ma skutecznosc 0.8934426229508197\nDla regionu: PerthAirport model przewidujący pogodę ma skutecznosc 0.8826530612244898\nDla regionu: NorfolkIsland model przewidujący pogodę ma skutecznosc 0.8227848101265823\nDla regionu: MelbourneAirport model przewidujący pogodę ma skutecznosc 0.9127906976744186\nDla regionu: AliceSprings model przewidujący pogodę ma skutecznosc 0.971830985915493\nDla regionu: Penrith model przewidujący pogodę ma skutecznosc 0.9047619047619048\nDla regionu: Portland model przewidujący pogodę ma skutecznosc 0.8729281767955801\nDla regionu: Katherine model przewidujący pogodę ma skutecznosc 1.0\nDla regionu: Newcastle model przewidujący pogodę ma skutecznosc 0.8567164179104477\nDla regionu: Tuggeranong model przewidujący pogodę ma skutecznosc 0.8787878787878788\nDla regionu: Uluru model przewidujący pogodę ma skutecznosc 0.96875\nDla regionu: Sale model przewidujący pogodę ma skutecznosc 0.8789473684210526\nDla regionu: Melbourne model przewidujący pogodę ma skutecznosc 0.8466666666666667\nDla regionu: Nhil model przewidujący pogodę ma skutecznosc 0.9238095238095239\nDla regionu: NorahHead model przewidujący pogodę ma skutecznosc 0.897196261682243\nDla regionu: Bendigo model przewidujący pogodę ma skutecznosc 0.9007633587786259\nDla regionu: Moree model przewidujący pogodę ma skutecznosc 0.9372197309417041\nDla regionu: WaggaWagga model przewidujący pogodę ma skutecznosc 0.8934426229508197\nDla regionu: Watsonia model przewidujący pogodę ma skutecznosc 0.8518518518518519\nDla regionu: Nuriootpa model przewidujący pogodę ma skutecznosc 0.9043824701195219\nDla regionu: Perth model przewidujący pogodę ma skutecznosc 0.8761904761904762\nDla regionu: SydneyAirport model przewidujący pogodę ma skutecznosc 0.8773006134969326\nDla regionu: Albury model przewidujący pogodę ma skutecznosc 0.8932806324110671\nDla regionu: Launceston model przewidujący pogodę ma skutecznosc 0.8833333333333333\nDla regionu: Mildura model przewidujący pogodę ma skutecznosc 0.9283018867924528\nDla regionu: MountGambier model przewidujący pogodę ma skutecznosc 0.8294117647058824\nDla regionu: PearceRAAF model przewidujący pogodę ma skutecznosc 0.8709677419354839\nDla regionu: Hobart model przewidujący pogodę ma skutecznosc 0.8571428571428571\nDla regionu: Ballarat model przewidujący pogodę ma skutecznosc 0.905511811023622\nDla regionu: Cobar model przewidujący pogodę ma skutecznosc 0.9296296296296296\nDla regionu: Woomera model przewidujący pogodę ma skutecznosc 0.9590643274853801\nDla regionu: GoldCoast model przewidujący pogodę ma skutecznosc 0.927710843373494\nDla regionu: Canberra model przewidujący pogodę ma skutecznosc 0.8784722222222222\nNajlepszy wynik dla: AliceSprings - 0.971830985915493\n"
    }
   ],
   "source": [
    "from sklearn.linear_model import LogisticRegression\n",
    "\n",
    "max = 0\n",
    "best_loc = ''\n",
    "for loc in training_set_per_location:\n",
    "    lr = LogisticRegression()\n",
    "    try:\n",
    "        lr.fit(training_set_per_location[loc][0], training_set_per_location[loc][2])\n",
    "        score = lr.score(training_set_per_location[loc][1], training_set_per_location[loc][3])\n",
    "        print(\"Dla regionu:\", loc, \"model przewidujący pogodę ma skutecznosc\", score)\n",
    "        if loc != 'Katherine' and score > max: #Wynik dla Katherine jest nierelatywny\n",
    "            max = score\n",
    "            best_loc = loc\n",
    "    except:\n",
    "        print(\"Dla regionu:\", loc, \"nie można uzyc regresji - brak danych dla ktorejs z klas\")\n",
    "\n",
    "print(\"Najlepszy wynik dla:\", best_loc, \"-\", max)"
   ]
  },
  {
   "cell_type": "markdown",
   "metadata": {},
   "source": [
    "Sprawdzam ile jest próbek w najmniejszym datasecie"
   ]
  },
  {
   "cell_type": "code",
   "execution_count": 13,
   "metadata": {},
   "outputs": [
    {
     "output_type": "execute_result",
     "data": {
      "text/plain": "46"
     },
     "metadata": {},
     "execution_count": 13
    }
   ],
   "source": [
    "number = 100\n",
    "for loc in training_set_per_location:\n",
    "    num_of_samples = len(training_set_per_location[loc][1].index)\n",
    "    if num_of_samples < number:\n",
    "        number = num_of_samples\n",
    "number"
   ]
  },
  {
   "cell_type": "markdown",
   "metadata": {},
   "source": [
    "Tworzę zbiór próbek testowych dla całego kraju, biorąc z każdego zbioru testowego po 46 próbek"
   ]
  },
  {
   "cell_type": "code",
   "execution_count": 37,
   "metadata": {},
   "outputs": [],
   "source": [
    "df_kraj_x_test = training_set_per_location['Albany'][1].head(46).copy()\n",
    "df_kraj_y_test = training_set_per_location['Albany'][3].head(46).copy()\n",
    "for loc in training_set_per_location:\n",
    "    if loc is not 'Albany':\n",
    "        df_kraj_x_test.append(training_set_per_location[loc][1].head(46))\n",
    "        df_kraj_y_test.append(training_set_per_location[loc][3].head(46))\n"
   ]
  },
  {
   "cell_type": "code",
   "execution_count": 38,
   "metadata": {},
   "outputs": [
    {
     "output_type": "stream",
     "name": "stdout",
     "text": "Dla kraju, model Cairns  przewidujący pogodę ma skutecznosc 0.8695652173913043\nDla kraju, model CoffsHarbour  przewidujący pogodę ma skutecznosc 0.7391304347826086\nDla kraju, model SalmonGums  przewidujący pogodę ma skutecznosc 0.8043478260869565\nDla kraju, model Walpole  przewidujący pogodę ma skutecznosc 0.8043478260869565\nDla kraju, model Wollongong  przewidujący pogodę ma skutecznosc 0.8478260869565217\nDla kraju, model Dartmoor  przewidujący pogodę ma skutecznosc 0.8043478260869565\nDla kraju, model Townsville  przewidujący pogodę ma skutecznosc 0.8478260869565217\nDla kraju, model Witchcliffe  przewidujący pogodę ma skutecznosc 0.8043478260869565\nDla kraju, model BadgerysCreek  przewidujący pogodę ma skutecznosc 0.8913043478260869\nDla kraju, model Darwin nie można uzyc regresji - brak danych dla ktorejs z klas\nDla kraju, model Albany  przewidujący pogodę ma skutecznosc 0.8913043478260869\nDla kraju, model MountGinini  przewidujący pogodę ma skutecznosc 0.8478260869565217\nDla kraju, model Brisbane  przewidujący pogodę ma skutecznosc 0.8260869565217391\nDla kraju, model Williamtown  przewidujący pogodę ma skutecznosc 0.8913043478260869\nDla kraju, model Adelaide  przewidujący pogodę ma skutecznosc 0.8043478260869565\nDla kraju, model Sydney  przewidujący pogodę ma skutecznosc 0.8695652173913043\nDla kraju, model Richmond  przewidujący pogodę ma skutecznosc 0.8695652173913043\nDla kraju, model PerthAirport  przewidujący pogodę ma skutecznosc 0.6521739130434783\nDla kraju, model NorfolkIsland  przewidujący pogodę ma skutecznosc 0.8478260869565217\nDla kraju, model MelbourneAirport  przewidujący pogodę ma skutecznosc 0.8913043478260869\nDla kraju, model AliceSprings  przewidujący pogodę ma skutecznosc 0.8695652173913043\nDla kraju, model Penrith  przewidujący pogodę ma skutecznosc 0.8478260869565217\nDla kraju, model Portland  przewidujący pogodę ma skutecznosc 0.8695652173913043\nDla kraju, model Katherine  przewidujący pogodę ma skutecznosc 0.8695652173913043\nDla kraju, model Newcastle  przewidujący pogodę ma skutecznosc 0.8913043478260869\nDla kraju, model Tuggeranong  przewidujący pogodę ma skutecznosc 0.8260869565217391\nDla kraju, model Uluru  przewidujący pogodę ma skutecznosc 0.8695652173913043\nDla kraju, model Sale  przewidujący pogodę ma skutecznosc 0.8695652173913043\nDla kraju, model Melbourne  przewidujący pogodę ma skutecznosc 0.8913043478260869\nDla kraju, model Nhil  przewidujący pogodę ma skutecznosc 0.7391304347826086\nDla kraju, model NorahHead  przewidujący pogodę ma skutecznosc 0.8695652173913043\nDla kraju, model Bendigo  przewidujący pogodę ma skutecznosc 0.717391304347826\nDla kraju, model Moree  przewidujący pogodę ma skutecznosc 0.6521739130434783\nDla kraju, model WaggaWagga  przewidujący pogodę ma skutecznosc 0.6521739130434783\nDla kraju, model Watsonia  przewidujący pogodę ma skutecznosc 0.8260869565217391\nDla kraju, model Nuriootpa  przewidujący pogodę ma skutecznosc 0.6956521739130435\nDla kraju, model Perth  przewidujący pogodę ma skutecznosc 0.7608695652173914\nDla kraju, model SydneyAirport  przewidujący pogodę ma skutecznosc 0.8695652173913043\nDla kraju, model Albury  przewidujący pogodę ma skutecznosc 0.30434782608695654\nDla kraju, model Launceston  przewidujący pogodę ma skutecznosc 0.7391304347826086\nDla kraju, model Mildura  przewidujący pogodę ma skutecznosc 0.4782608695652174\nDla kraju, model MountGambier  przewidujący pogodę ma skutecznosc 0.8913043478260869\nDla kraju, model PearceRAAF  przewidujący pogodę ma skutecznosc 0.8478260869565217\nDla kraju, model Hobart  przewidujący pogodę ma skutecznosc 0.8913043478260869\nDla kraju, model Ballarat  przewidujący pogodę ma skutecznosc 0.8695652173913043\nDla kraju, model Cobar  przewidujący pogodę ma skutecznosc 0.717391304347826\nDla kraju, model Woomera  przewidujący pogodę ma skutecznosc 0.8913043478260869\nDla kraju, model GoldCoast  przewidujący pogodę ma skutecznosc 0.8260869565217391\nDla kraju, model Canberra  przewidujący pogodę ma skutecznosc 0.8043478260869565\nNajlepszy wynik dla: BadgerysCreek - 0.8913043478260869\n"
    }
   ],
   "source": [
    "max = 0\n",
    "best_loc = ''\n",
    "for loc in training_set_per_location:\n",
    "    lr = LogisticRegression()\n",
    "    try:\n",
    "        lr.fit(training_set_per_location[loc][0], training_set_per_location[loc][2])\n",
    "        score = lr.score(df_kraj_x_test, df_kraj_y_test)\n",
    "        print(\"Dla kraju, model\", loc, \" przewidujący pogodę ma skutecznosc\", score)\n",
    "        if loc != 'Katherine' and score >= max: #Wynik dla Katherine jest nierelatywny\n",
    "            max = score\n",
    "            best_loc = loc\n",
    "    except:\n",
    "        print(\"Dla kraju, model\", loc, \"nie można uzyc regresji - brak danych dla ktorejs z klas\")\n",
    "\n",
    "print(\"Najlepszy wynik dla:\", best_loc, \"-\", max)"
   ]
  },
  {
   "cell_type": "markdown",
   "metadata": {},
   "source": [
    "Najskuteczniejszy wynik na danych krajowych uzyskał model dla regionu BadgerysCreek z dokładnością 0.8913043478260869, ten sam model na lokalnych danych ma skuteczność wynoszącą 0.888, co nie jest najlepszym wynikiem dla modeli uczonych na danych regionalnych(Najlepszy wynik dla: AliceSprings - 0.971830985915493). Może być to spowodowane lepszym rozkładem danych krajowych nie danych regionalnych dla tego regionu. "
   ]
  },
  {
   "cell_type": "markdown",
   "metadata": {},
   "source": [
    "Confusion matrix dla regionu BadgerysCreek"
   ]
  },
  {
   "cell_type": "code",
   "execution_count": 45,
   "metadata": {},
   "outputs": [
    {
     "output_type": "execute_result",
     "data": {
      "text/plain": "array([[40,  0],\n       [ 5,  1]])"
     },
     "metadata": {},
     "execution_count": 45
    }
   ],
   "source": [
    "from sklearn.metrics import confusion_matrix\n",
    "lr = LogisticRegression()\n",
    "lr.fit(training_set_per_location['BadgerysCreek'][0], training_set_per_location['BadgerysCreek'][2])\n",
    "prediction = lr.predict(df_kraj_x_test)\n",
    "confusion_matrix(df_kraj_y_test, prediction)"
   ]
  },
  {
   "cell_type": "markdown",
   "metadata": {},
   "source": [
    "Na podstawie confusion matrix można stwierdzić, że model ma nierówną ilość danych dla poszczególnych klas (jest to najprawdopodobniej wada zbioru danych - znaczna przewaga jednej klasy nad drugą). Taki oparty na liniowej regresji może być wykorzystywany w wielu miejscach (nie tylko w predykcji pogody)."
   ]
  }
 ],
 "metadata": {
  "language_info": {
   "codemirror_mode": {
    "name": "ipython",
    "version": 3
   },
   "file_extension": ".py",
   "mimetype": "text/x-python",
   "name": "python",
   "nbconvert_exporter": "python",
   "pygments_lexer": "ipython3",
   "version": "3.7.5-final"
  },
  "orig_nbformat": 2,
  "kernelspec": {
   "name": "794ab934-725f-47ef-a674-d7bfb732fa6a",
   "display_name": "'Python Interactive'"
  }
 },
 "nbformat": 4,
 "nbformat_minor": 2
}