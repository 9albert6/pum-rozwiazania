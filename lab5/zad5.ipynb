{
 "cells": [
  {
   "cell_type": "markdown",
   "metadata": {},
   "source": [
    "Ćwiczenie zaliczeniowe należy wykonać w osobnym pliku .ipynb a następnie wyeksportować do formatu .pdf lub .html (jeżeli eksport do pdf skutkuje niezbyt czytelnym dokumentem). Oba pliki należy załączyć poniżej.\n",
    "\n",
    "Ćwiczenie 1:\n",
    "- wygeneruj syntetyczny zbiór danych przy użyciu sklearn.datasets.make_gaussian_quantiles\n",
    "wymagane parametry:\n",
    "    n_samples = IDX // IDX[::2]\n",
    "    n_features = 2\n",
    "    n_classes = 2\n",
    "    random_state = IDX\n",
    "    mean=[ IDX[2] / IDX[3], IDX[4] / IDX[5] ]\n",
    "    cov=IDX[4] / IDX[3]\n",
    "gdzie IDX to aktualny numer indeksu, np. dla numeru indeksu 123456:\n",
    "    n_samples = 123456 // 135\n",
    "    n_features = 2\n",
    "    n_classes = 2\n",
    "    random_state = 123456\n",
    "    mean=[ 3 / 4, 5 / 6 ]\n",
    "    cov=5 / 4\n",
    "w przypadku gdy którakowlwiek z cyfr koniecznych do policzenia wartości mean i cov wynosi zero należy zastapić ja wartością jeden\n",
    "- naucz klasyfiktator SVM z bilioteki sklearn (sklearn.svm.SVC)\n",
    "- narysuj granice decyzyjną\n",
    "- porównaj kształt granicy decyzyjnej dla C=1, 10, 100 i 1000\n",
    "- porównaj kształt granicy decyzyjnej dla czterech dostepnych funkcji jądra (‘linear’, ‘poly’, ‘sigmoid’)\n",
    "\n",
    "Ćwiczenie 2:\n",
    "- pobierz zbiór danych o pulsarach: https://archive.ics.uci.edu/ml/datasets/HTRU2\n",
    "- policz ilość brakujących wartości w każdej z kolumn\n",
    "- stwórz dwie kopie zbioru, na jednej z nich dokonaj eliminacji obserwacji odstających\n",
    "- dokonaj normalizacji danych w obu zbiorach\n",
    "- dokonaj poprawnego podziału danych na zbiory testowe i treningowe (w obu zbiorach w taki sam sposób)\n",
    "- porównaj accuracy dla C=1 i 1000 oraz funckji jądra 'rbf' oraz 'linear'\n",
    "- dla najlepszego zestawu hiperparametrów wyświetl confusion matrix\n",
    "        do jakich wartości macierzy powinno się dążyć jeżeli mamy wybrać cel dla pierwszej sondy mającej z bliska zbadać pulsara?\n",
    "- narysuj krzywą ROC\n",
    "- policz pole pod krzywą ROC"
   ]
  }
 ],
 "metadata": {
  "language_info": {
   "codemirror_mode": {
    "name": "ipython",
    "version": 3
   },
   "file_extension": ".py",
   "mimetype": "text/x-python",
   "name": "python",
   "nbconvert_exporter": "python",
   "pygments_lexer": "ipython3",
   "version": 3
  },
  "orig_nbformat": 2
 },
 "nbformat": 4,
 "nbformat_minor": 2
}